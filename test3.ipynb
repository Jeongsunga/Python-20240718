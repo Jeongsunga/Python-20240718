{
 "cells": [
  {
   "cell_type": "code",
   "execution_count": 18,
   "metadata": {},
   "outputs": [
    {
     "name": "stdout",
     "output_type": "stream",
     "text": [
      "[1, 3, 4, 4, 4]\n"
     ]
    }
   ],
   "source": [
    "def solution(array, queries):\n",
    "    for i in range(len(queries)):\n",
    "        for j in range(queries[i][0], queries[i][1] + 1):\n",
    "            array[j] += 1\n",
    "    return array\n",
    "\n",
    "array = [0, 1, 2, 3, 4]\n",
    "queries = [[0, 1],[1, 2],[2, 3]]\n",
    "solution(array, queries)\n",
    "print(array)\n"
   ]
  }
 ],
 "metadata": {
  "kernelspec": {
   "display_name": "Python 3",
   "language": "python",
   "name": "python3"
  },
  "language_info": {
   "codemirror_mode": {
    "name": "ipython",
    "version": 3
   },
   "file_extension": ".py",
   "mimetype": "text/x-python",
   "name": "python",
   "nbconvert_exporter": "python",
   "pygments_lexer": "ipython3",
   "version": "3.12.4"
  }
 },
 "nbformat": 4,
 "nbformat_minor": 2
}
