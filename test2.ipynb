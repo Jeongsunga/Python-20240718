{
 "cells": [
  {
   "cell_type": "code",
   "execution_count": 47,
   "metadata": {},
   "outputs": [
    {
     "name": "stdout",
     "output_type": "stream",
     "text": [
      "45\n"
     ]
    }
   ],
   "source": [
    "def solution(number):\n",
    "    if(number < 0):\n",
    "        return 0\n",
    "\n",
    "    result = 0\n",
    "    number2 = number\n",
    "    numberSize = 0\n",
    "\n",
    "    for j in range(15): # 2000000000까지 제한했으므로\n",
    "        number2 // 10\n",
    "        numberSize += 1\n",
    "        if(number2 <= 0):\n",
    "            break\n",
    "    \n",
    "    for i in range(numberSize):\n",
    "        middle = number % 10\n",
    "        result += middle\n",
    "        number = number // 10 \n",
    "    return result\n",
    "\n",
    "\n",
    "print(solution(123456789))"
   ]
  }
 ],
 "metadata": {
  "kernelspec": {
   "display_name": "Python 3",
   "language": "python",
   "name": "python3"
  },
  "language_info": {
   "codemirror_mode": {
    "name": "ipython",
    "version": 3
   },
   "file_extension": ".py",
   "mimetype": "text/x-python",
   "name": "python",
   "nbconvert_exporter": "python",
   "pygments_lexer": "ipython3",
   "version": "3.12.4"
  }
 },
 "nbformat": 4,
 "nbformat_minor": 2
}
